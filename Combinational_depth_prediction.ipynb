{
 "cells": [
  {
   "cell_type": "code",
   "execution_count": 1,
   "id": "92da7a34-9f90-405c-af6c-7bbbd4683eaa",
   "metadata": {},
   "outputs": [
    {
     "name": "stdout",
     "output_type": "stream",
     "text": [
      "Dataset preview:\n",
      "     Signal  Fan-In  Fan-Out  Gate Count  Gate Delay (ns)  Line Delay (ns)  \\\n",
      "0  signal_0      13        2          75         1.883380         0.511851   \n",
      "1  signal_1      12       10          57         0.354556         0.147569   \n",
      "2  signal_2       8        7          72         0.482566         0.176028   \n",
      "3  signal_3       7        1          93         1.128659         0.583292   \n",
      "4  signal_4       2       11          35         0.990291         0.737936   \n",
      "\n",
      "   Transition Delay (ns)  Logic Depth (ns)  Delay per Gate (ns)  \\\n",
      "0               0.292846        149.233012             1.883380   \n",
      "1               0.095488          9.924519             0.354556   \n",
      "2               0.088160         36.010420             0.482566   \n",
      "3               0.061892        115.748266             1.128659   \n",
      "4               0.034708         42.924595             0.990291   \n",
      "\n",
      "   Fan Complexity  \n",
      "0              26  \n",
      "1             120  \n",
      "2              56  \n",
      "3               7  \n",
      "4              22  \n"
     ]
    }
   ],
   "source": [
    "import pandas as pd\n",
    "\n",
    "# Load the dataset from the Excel file\n",
    "dataset_filename = r\"C:\\Users\\hp\\Downloads\\updated_combinational_logic_depth_dataset.xlsx\"\n",
    "df = pd.read_excel(dataset_filename)\n",
    "\n",
    "# Display a preview of the dataset\n",
    "print(\"Dataset preview:\")\n",
    "print(df.head())"
   ]
  },
  {
   "cell_type": "code",
   "execution_count": 2,
   "id": "465725a6-d3e0-4111-a71b-876d857f12fc",
   "metadata": {},
   "outputs": [
    {
     "name": "stdout",
     "output_type": "stream",
     "text": [
      "\n",
      "Dataset Info:\n",
      "<class 'pandas.core.frame.DataFrame'>\n",
      "RangeIndex: 1500 entries, 0 to 1499\n",
      "Data columns (total 10 columns):\n",
      " #   Column                 Non-Null Count  Dtype  \n",
      "---  ------                 --------------  -----  \n",
      " 0   Signal                 1500 non-null   object \n",
      " 1   Fan-In                 1500 non-null   int64  \n",
      " 2   Fan-Out                1500 non-null   int64  \n",
      " 3   Gate Count             1500 non-null   int64  \n",
      " 4   Gate Delay (ns)        1500 non-null   float64\n",
      " 5   Line Delay (ns)        1500 non-null   float64\n",
      " 6   Transition Delay (ns)  1500 non-null   float64\n",
      " 7   Logic Depth (ns)       1500 non-null   float64\n",
      " 8   Delay per Gate (ns)    1500 non-null   float64\n",
      " 9   Fan Complexity         1500 non-null   int64  \n",
      "dtypes: float64(5), int64(4), object(1)\n",
      "memory usage: 117.3+ KB\n",
      "None\n"
     ]
    }
   ],
   "source": [
    "# Display dataset information to check data types and missing values\n",
    "print(\"\\nDataset Info:\")\n",
    "print(df.info())\n",
    "\n",
    "# If there's an identifier column like 'Signal', drop it since it's not useful for training\n",
    "if 'Signal' in df.columns:\n",
    "    df = df.drop(columns=['Signal'])"
   ]
  },
  {
   "cell_type": "code",
   "execution_count": 3,
   "id": "9af90360-fe7c-41ce-9c10-2cb5db8b052e",
   "metadata": {},
   "outputs": [
    {
     "data": {
      "text/plain": [
       "\n",
       "IPython -- An enhanced Interactive Python\n",
       "=========================================\n",
       "\n",
       "IPython offers a fully compatible replacement for the standard Python\n",
       "interpreter, with convenient shell features, special commands, command\n",
       "history mechanism and output results caching.\n",
       "\n",
       "At your system command line, type 'ipython -h' to see the command line\n",
       "options available. This document only describes interactive features.\n",
       "\n",
       "GETTING HELP\n",
       "------------\n",
       "\n",
       "Within IPython you have various way to access help:\n",
       "\n",
       "  ?         -> Introduction and overview of IPython's features (this screen).\n",
       "  object?   -> Details about 'object'.\n",
       "  object??  -> More detailed, verbose information about 'object'.\n",
       "  %quickref -> Quick reference of all IPython specific syntax and magics.\n",
       "  help      -> Access Python's own help system.\n",
       "\n",
       "If you are in terminal IPython you can quit this screen by pressing `q`.\n",
       "\n",
       "\n",
       "MAIN FEATURES\n",
       "-------------\n",
       "\n",
       "* Access to the standard Python help with object docstrings and the Python\n",
       "  manuals. Simply type 'help' (no quotes) to invoke it.\n",
       "\n",
       "* Magic commands: type %magic for information on the magic subsystem.\n",
       "\n",
       "* System command aliases, via the %alias command or the configuration file(s).\n",
       "\n",
       "* Dynamic object information:\n",
       "\n",
       "  Typing ?word or word? prints detailed information about an object. Certain\n",
       "  long strings (code, etc.) get snipped in the center for brevity.\n",
       "\n",
       "  Typing ??word or word?? gives access to the full information without\n",
       "  snipping long strings. Strings that are longer than the screen are printed\n",
       "  through the less pager.\n",
       "\n",
       "  The ?/?? system gives access to the full source code for any object (if\n",
       "  available), shows function prototypes and other useful information.\n",
       "\n",
       "  If you just want to see an object's docstring, type '%pdoc object' (without\n",
       "  quotes, and without % if you have automagic on).\n",
       "\n",
       "* Tab completion in the local namespace:\n",
       "\n",
       "  At any time, hitting tab will complete any available python commands or\n",
       "  variable names, and show you a list of the possible completions if there's\n",
       "  no unambiguous one. It will also complete filenames in the current directory.\n",
       "\n",
       "* Search previous command history in multiple ways:\n",
       "\n",
       "  - Start typing, and then use arrow keys up/down or (Ctrl-p/Ctrl-n) to search\n",
       "    through the history items that match what you've typed so far.\n",
       "\n",
       "  - Hit Ctrl-r: opens a search prompt. Begin typing and the system searches\n",
       "    your history for lines that match what you've typed so far, completing as\n",
       "    much as it can.\n",
       "\n",
       "  - %hist: search history by index.\n",
       "\n",
       "* Persistent command history across sessions.\n",
       "\n",
       "* Logging of input with the ability to save and restore a working session.\n",
       "\n",
       "* System shell with !. Typing !ls will run 'ls' in the current directory.\n",
       "\n",
       "* The reload command does a 'deep' reload of a module: changes made to the\n",
       "  module since you imported will actually be available without having to exit.\n",
       "\n",
       "* Verbose and colored exception traceback printouts. See the magic xmode and\n",
       "  xcolor functions for details (just type %magic).\n",
       "\n",
       "* Input caching system:\n",
       "\n",
       "  IPython offers numbered prompts (In/Out) with input and output caching. All\n",
       "  input is saved and can be retrieved as variables (besides the usual arrow\n",
       "  key recall).\n",
       "\n",
       "  The following GLOBAL variables always exist (so don't overwrite them!):\n",
       "  _i: stores previous input.\n",
       "  _ii: next previous.\n",
       "  _iii: next-next previous.\n",
       "  _ih : a list of all input _ih[n] is the input from line n.\n",
       "\n",
       "  Additionally, global variables named _i<n> are dynamically created (<n>\n",
       "  being the prompt counter), such that _i<n> == _ih[<n>]\n",
       "\n",
       "  For example, what you typed at prompt 14 is available as _i14 and _ih[14].\n",
       "\n",
       "  You can create macros which contain multiple input lines from this history,\n",
       "  for later re-execution, with the %macro function.\n",
       "\n",
       "  The history function %hist allows you to see any part of your input history\n",
       "  by printing a range of the _i variables. Note that inputs which contain\n",
       "  magic functions (%) appear in the history with a prepended comment. This is\n",
       "  because they aren't really valid Python code, so you can't exec them.\n",
       "\n",
       "* Output caching system:\n",
       "\n",
       "  For output that is returned from actions, a system similar to the input\n",
       "  cache exists but using _ instead of _i. Only actions that produce a result\n",
       "  (NOT assignments, for example) are cached. If you are familiar with\n",
       "  Mathematica, IPython's _ variables behave exactly like Mathematica's %\n",
       "  variables.\n",
       "\n",
       "  The following GLOBAL variables always exist (so don't overwrite them!):\n",
       "  _ (one underscore): previous output.\n",
       "  __ (two underscores): next previous.\n",
       "  ___ (three underscores): next-next previous.\n",
       "\n",
       "  Global variables named _<n> are dynamically created (<n> being the prompt\n",
       "  counter), such that the result of output <n> is always available as _<n>.\n",
       "\n",
       "  Finally, a global dictionary named _oh exists with entries for all lines\n",
       "  which generated output.\n",
       "\n",
       "* Directory history:\n",
       "\n",
       "  Your history of visited directories is kept in the global list _dh, and the\n",
       "  magic %cd command can be used to go to any entry in that list.\n",
       "\n",
       "* Auto-parentheses and auto-quotes (adapted from Nathan Gray's LazyPython)\n",
       "\n",
       "  1. Auto-parentheses\n",
       "        \n",
       "     Callable objects (i.e. functions, methods, etc) can be invoked like\n",
       "     this (notice the commas between the arguments)::\n",
       "       \n",
       "         In [1]: callable_ob arg1, arg2, arg3\n",
       "       \n",
       "     and the input will be translated to this::\n",
       "       \n",
       "         callable_ob(arg1, arg2, arg3)\n",
       "       \n",
       "     This feature is off by default (in rare cases it can produce\n",
       "     undesirable side-effects), but you can activate it at the command-line\n",
       "     by starting IPython with `--autocall 1`, set it permanently in your\n",
       "     configuration file, or turn on at runtime with `%autocall 1`.\n",
       "\n",
       "     You can force auto-parentheses by using '/' as the first character\n",
       "     of a line.  For example::\n",
       "       \n",
       "          In [1]: /globals             # becomes 'globals()'\n",
       "       \n",
       "     Note that the '/' MUST be the first character on the line!  This\n",
       "     won't work::\n",
       "       \n",
       "          In [2]: print /globals    # syntax error\n",
       "\n",
       "     In most cases the automatic algorithm should work, so you should\n",
       "     rarely need to explicitly invoke /. One notable exception is if you\n",
       "     are trying to call a function with a list of tuples as arguments (the\n",
       "     parenthesis will confuse IPython)::\n",
       "       \n",
       "          In [1]: zip (1,2,3),(4,5,6)  # won't work\n",
       "       \n",
       "     but this will work::\n",
       "       \n",
       "          In [2]: /zip (1,2,3),(4,5,6)\n",
       "          ------> zip ((1,2,3),(4,5,6))\n",
       "          Out[2]= [(1, 4), (2, 5), (3, 6)]\n",
       "\n",
       "     IPython tells you that it has altered your command line by\n",
       "     displaying the new command line preceded by -->.  e.g.::\n",
       "       \n",
       "          In [18]: callable list\n",
       "          -------> callable (list)\n",
       "\n",
       "  2. Auto-Quoting\n",
       "    \n",
       "     You can force auto-quoting of a function's arguments by using ',' as\n",
       "     the first character of a line.  For example::\n",
       "       \n",
       "          In [1]: ,my_function /home/me   # becomes my_function(\"/home/me\")\n",
       "\n",
       "     If you use ';' instead, the whole argument is quoted as a single\n",
       "     string (while ',' splits on whitespace)::\n",
       "       \n",
       "          In [2]: ,my_function a b c   # becomes my_function(\"a\",\"b\",\"c\")\n",
       "          In [3]: ;my_function a b c   # becomes my_function(\"a b c\")\n",
       "\n",
       "     Note that the ',' MUST be the first character on the line!  This\n",
       "     won't work::\n",
       "       \n",
       "          In [4]: x = ,my_function /home/me    # syntax error\n"
      ]
     },
     "metadata": {},
     "output_type": "display_data"
    }
   ],
   "source": [
    "# Derived feature: Fan Complexity = Fan-In * Fan-Out\n",
    "df['Fan Complexity'] = df['Fan-In'] * df['Fan-Out']\n",
    "\n",
    "# (Optional) You can add other derived features if needed.\n",
    "?"
   ]
  },
  {
   "cell_type": "code",
   "execution_count": 4,
   "id": "9f6fcaec-e931-4f0e-9f8a-072e96e13a68",
   "metadata": {},
   "outputs": [
    {
     "name": "stdout",
     "output_type": "stream",
     "text": [
      "\n",
      "Features used for training:\n",
      "['Fan-In', 'Fan-Out', 'Gate Count', 'Gate Delay (ns)', 'Line Delay (ns)', 'Transition Delay (ns)', 'Delay per Gate (ns)', 'Fan Complexity']\n"
     ]
    }
   ],
   "source": [
    "# Define the feature columns we want to use for training\n",
    "features = [\n",
    "    'Fan-In', \n",
    "    'Fan-Out', \n",
    "    'Gate Count', \n",
    "    'Gate Delay (ns)', \n",
    "    'Line Delay (ns)', \n",
    "    'Transition Delay (ns)', \n",
    "    'Delay per Gate (ns)', \n",
    "    'Fan Complexity'\n",
    "]\n",
    "\n",
    "# Our target variable is the Logic Depth (ns)\n",
    "X = df[features]\n",
    "y = df[\"Logic Depth (ns)\"]\n",
    "\n",
    "print(\"\\nFeatures used for training:\")\n",
    "print(X.columns.tolist())\n"
   ]
  },
  {
   "cell_type": "code",
   "execution_count": 5,
   "id": "8eb2ee0d-2e50-4904-9f06-3ae51d790bda",
   "metadata": {},
   "outputs": [],
   "source": [
    "from sklearn.pipeline import Pipeline\n",
    "from sklearn.impute import SimpleImputer\n",
    "from sklearn.preprocessing import StandardScaler, PolynomialFeatures\n",
    "\n",
    "# Create a pipeline for numeric data preprocessing:\n",
    "numeric_pipeline = Pipeline(steps=[\n",
    "    (\"imputer\", SimpleImputer(strategy=\"median\")),      # Fill missing values\n",
    "    (\"poly\", PolynomialFeatures(degree=2, include_bias=False)),  # Expand features (optional, helps capture non-linearities)\n",
    "    (\"scaler\", StandardScaler())                         # Standardize features\n",
    "])\n",
    "\n",
    "# Fit and transform our feature matrix\n",
    "X_processed = numeric_pipeline.fit_transform(X)"
   ]
  },
  {
   "cell_type": "code",
   "execution_count": 6,
   "id": "a5a9924d-7705-458e-a0fc-c3c01a3668d1",
   "metadata": {},
   "outputs": [
    {
     "name": "stdout",
     "output_type": "stream",
     "text": [
      "\n",
      "Training samples: 1200, Testing samples: 300\n"
     ]
    }
   ],
   "source": [
    "from sklearn.model_selection import train_test_split\n",
    "\n",
    "# Split the data into 80% training and 20% testing\n",
    "X_train, X_test, y_train, y_test = train_test_split(X_processed, y, test_size=0.20, random_state=42)\n",
    "\n",
    "print(f\"\\nTraining samples: {X_train.shape[0]}, Testing samples: {X_test.shape[0]}\")\n"
   ]
  },
  {
   "cell_type": "code",
   "execution_count": 7,
   "id": "d217eec4-2979-4774-8d0a-a4facc4b45f3",
   "metadata": {},
   "outputs": [],
   "source": [
    "import xgboost as xgb\n",
    "from sklearn.ensemble import RandomForestRegressor, GradientBoostingRegressor\n",
    "\n",
    "xgb_model = xgb.XGBRegressor(\n",
    "    n_estimators=500,\n",
    "    learning_rate=0.005,\n",
    "    max_depth=11,\n",
    "    subsample=0.9,\n",
    "    colsample_bytree=0.9,\n",
    "    objective=\"reg:squarederror\",\n",
    "    random_state=42\n",
    ")\n",
    "\n",
    "rf_model = RandomForestRegressor(\n",
    "    n_estimators=500,\n",
    "    max_depth=12,\n",
    "    random_state=42\n",
    ")\n",
    "\n",
    "gbr_model = GradientBoostingRegressor(\n",
    "    n_estimators=500,\n",
    "    learning_rate=0.005,\n",
    "    max_depth=9,\n",
    "    random_state=42\n",
    ")\n"
   ]
  },
  {
   "cell_type": "code",
   "execution_count": 8,
   "id": "04096487-40a8-452a-950b-71f1a9d49145",
   "metadata": {},
   "outputs": [
    {
     "name": "stdout",
     "output_type": "stream",
     "text": [
      "\n",
      "Stacking ensemble training complete!\n"
     ]
    }
   ],
   "source": [
    "from sklearn.ensemble import StackingRegressor\n",
    "from sklearn.linear_model import LinearRegression\n",
    "\n",
    "estimators = [\n",
    "    ('xgb', xgb_model),\n",
    "    ('rf', rf_model),\n",
    "    ('gbr', gbr_model)\n",
    "]\n",
    "\n",
    "stacking_reg = StackingRegressor(\n",
    "    estimators=estimators,\n",
    "    final_estimator=LinearRegression(),\n",
    "    cv=5,\n",
    "    n_jobs=-1\n",
    ")\n",
    "\n",
    "# Train the stacking ensemble\n",
    "stacking_reg.fit(X_train, y_train)\n",
    "print(\"\\nStacking ensemble training complete!\")"
   ]
  },
  {
   "cell_type": "code",
   "execution_count": 9,
   "id": "f710aa4e-85ff-4093-b899-669fe097bfe2",
   "metadata": {},
   "outputs": [
    {
     "name": "stdout",
     "output_type": "stream",
     "text": [
      "\n",
      "Stacking Ensemble MAE: 4.1248\n",
      "Stacking Ensemble R²: 0.9864\n"
     ]
    }
   ],
   "source": [
    "from sklearn.metrics import mean_absolute_error, r2_score\n",
    "\n",
    "# Predict on the test set using the stacking ensemble\n",
    "y_pred_stack = stacking_reg.predict(X_test)\n",
    "\n",
    "# Calculate performance metrics\n",
    "mae_stack = mean_absolute_error(y_test, y_pred_stack)\n",
    "r2_stack = r2_score(y_test, y_pred_stack)\n",
    "\n",
    "print(f\"\\nStacking Ensemble MAE: {mae_stack:.4f}\")\n",
    "print(f\"Stacking Ensemble R²: {r2_stack:.4f}\")"
   ]
  },
  {
   "cell_type": "code",
   "execution_count": 10,
   "id": "637e36bf-1989-4167-8b6b-3e26370a4754",
   "metadata": {},
   "outputs": [
    {
     "data": {
      "image/png": "[encoded data removed]",
      "text/plain": [
       "<Figure size 800x600 with 1 Axes>"
      ]
     },
     "metadata": {},
     "output_type": "display_data"
    },
    {
     "data": {
      "image/png": "[encoded data removed]",
      "text/plain": [
       "<Figure size 800x600 with 1 Axes>"
      ]
     },
     "metadata": {},
     "output_type": "display_data"
    }
   ],
   "source": [
    "import matplotlib.pyplot as plt\n",
    "\n",
    "# Scatter plot: Actual vs. Predicted\n",
    "plt.figure(figsize=(8,6))\n",
    "plt.scatter(y_test, y_pred_stack, alpha=0.7)\n",
    "plt.xlabel(\"Actual Logic Depth (ns)\")\n",
    "plt.ylabel(\"Predicted Logic Depth (ns)\")\n",
    "plt.title(\"Actual vs. Predicted Logic Depth\")\n",
    "plt.plot([min(y_test), max(y_test)], [min(y_test), max(y_test)], color='red', lw=2)\n",
    "plt.show()\n",
    "\n",
    "# Residual histogram\n",
    "residuals = y_test - y_pred_stack\n",
    "plt.figure(figsize=(8,6))\n",
    "plt.hist(residuals, bins=30, edgecolor='k', alpha=0.7)\n",
    "plt.xlabel(\"Residuals\")\n",
    "plt.ylabel(\"Frequency\")\n",
    "plt.title(\"Residuals Distribution\")\n",
    "plt.show()\n"
   ]
  },
  {
   "cell_type": "code",
   "execution_count": 11,
   "id": "3473c4d3-9527-432e-8e41-0bb2eb8372e9",
   "metadata": {},
   "outputs": [
    {
     "name": "stdout",
     "output_type": "stream",
     "text": [
      "Test Case Passed: Prediction shape is correct.\n"
     ]
    }
   ],
   "source": [
    "import numpy as np\n",
    "from sklearn.metrics import mean_absolute_error, r2_score\n",
    "\n",
    "def test_prediction_shape(model, X_test):\n",
    "    \"\"\"\n",
    "    Test that the model returns the correct number of predictions.\n",
    "    \"\"\"\n",
    "    # Get predictions from the model\n",
    "    predictions = model.predict(X_test)\n",
    "    \n",
    "    # Check that the number of predictions matches the number of test samples\n",
    "    assert predictions.shape[0] == X_test.shape[0], (\n",
    "        f\"Expected {X_test.shape[0]} predictions, but got {predictions.shape[0]}\"\n",
    "    )\n",
    "    print(\"Test Case Passed: Prediction shape is correct.\")\n",
    "\n",
    "# Example usage assuming your model is stored in 'stacking_reg' and your test data is in X_test.\n",
    "test_prediction_shape(stacking_reg, X_test)\n"
   ]
  },
  {
   "cell_type": "code",
   "execution_count": 12,
   "id": "ed084e32-bc64-45e0-b1fd-ac77dffd22cf",
   "metadata": {},
   "outputs": [
    {
     "name": "stdout",
     "output_type": "stream",
     "text": [
      "Test Passed: Model performance is acceptable (MAE: 4.1248, R²: 0.9864).\n"
     ]
    }
   ],
   "source": [
    "from sklearn.metrics import mean_absolute_error, r2_score\n",
    "\n",
    "def test_model_performance(model, X_test, y_test, expected_mae=10, expected_r2=0.9):\n",
    "    \"\"\"\n",
    "    Test that the model's performance meets expected thresholds.\n",
    "    Adjust expected_mae and expected_r2 based on your performance criteria.\n",
    "    \"\"\"\n",
    "    predictions = model.predict(X_test)\n",
    "    mae = mean_absolute_error(y_test, predictions)\n",
    "    r2 = r2_score(y_test, predictions)\n",
    "    \n",
    "    # Check if performance is within acceptable limits.\n",
    "    assert mae < expected_mae, f\"MAE is too high: {mae:.4f} (threshold: {expected_mae})\"\n",
    "    assert r2 > expected_r2, f\"R² score is too low: {r2:.4f} (threshold: {expected_r2})\"\n",
    "    \n",
    "    print(f\"Test Passed: Model performance is acceptable (MAE: {mae:.4f}, R²: {r2:.4f}).\")\n",
    "\n",
    "# Run this test case with your trained model\n",
    "test_model_performance(stacking_reg, X_test, y_test, expected_mae=10, expected_r2=0.9)"
   ]
  },
  {
   "cell_type": "code",
   "execution_count": null,
   "id": "202f1c80-62c9-41d8-988e-2bb75e1aceaf",
   "metadata": {},
   "outputs": [],
   "source": []
  }
 ],
 "metadata": {
  "kernelspec": {
   "display_name": "Python 3 (ipykernel)",
   "language": "python",
   "name": "python3"
  },
  "language_info": {
   "codemirror_mode": {
    "name": "ipython",
    "version": 3
   },
   "file_extension": ".py",
   "mimetype": "text/x-python",
   "name": "python",
   "nbconvert_exporter": "python",
   "pygments_lexer": "ipython3",
   "version": "3.12.4"
  }
 },
 "nbformat": 4,
 "nbformat_minor": 5
}
